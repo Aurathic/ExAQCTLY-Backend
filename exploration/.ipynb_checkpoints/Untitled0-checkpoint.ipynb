{
  "nbformat": 4,
  "nbformat_minor": 0,
  "metadata": {
    "colab": {
      "provenance": []
    },
    "kernelspec": {
      "name": "python3",
      "display_name": "Python 3"
    },
    "language_info": {
      "name": "python"
    }
  },
  "cells": [
    {
      "cell_type": "code",
      "source": [
        "from PIL import Image\n",
        "from tensorflow.keras.utils import load_img\n",
        "!pip install webcolors\n",
        "import webcolors"
      ],
      "metadata": {
        "colab": {
          "base_uri": "https://localhost:8080/"
        },
        "id": "ueGwvEogueeP",
        "outputId": "ccc81b90-8209-40ad-97b1-f8fd87a16c92"
      },
      "execution_count": 27,
      "outputs": [
        {
          "output_type": "stream",
          "name": "stdout",
          "text": [
            "Looking in indexes: https://pypi.org/simple, https://us-python.pkg.dev/colab-wheels/public/simple/\n",
            "Requirement already satisfied: webcolors in /usr/local/lib/python3.9/dist-packages (1.13)\n"
          ]
        }
      ]
    },
    {
      "cell_type": "code",
      "execution_count": 32,
      "metadata": {
        "id": "R7_xq34GuYsY"
      },
      "outputs": [],
      "source": [
        "def closest_colour(requested_colour):\n",
        "    min_colours = {}\n",
        "    for key, name in webcolors.CSS3_HEX_TO_NAMES.items():\n",
        "        r_c, g_c, b_c = webcolors.hex_to_rgb(key)\n",
        "        rd = (r_c - requested_colour[0]) ** 2\n",
        "        gd = (g_c - requested_colour[1]) ** 2\n",
        "        bd = (b_c - requested_colour[2]) ** 2\n",
        "        min_colours[(rd + gd + bd)] = name\n",
        "    return min_colours[min(min_colours.keys())]\n",
        "\n",
        "def get_colour_name(requested_colour):\n",
        "    try:\n",
        "        closest_name = actual_name = webcolors.rgb_to_name(requested_colour)\n",
        "    except ValueError:\n",
        "        closest_name = closest_colour(requested_colour)\n",
        "        actual_name = None\n",
        "    return actual_name, closest_name\n",
        "\n",
        "def get_color_name(color):\n",
        "    # Define a dictionary of color names and their RGB values\n",
        "    color_names = {\n",
        "        (255, 0, 0): 'Red',\n",
        "        (0, 255, 0): 'Green',\n",
        "        (0, 0, 255): 'Blue',\n",
        "        (255, 255, 0): 'Yellow',\n",
        "        (255, 0, 255): 'Magenta',\n",
        "        (0, 255, 255): 'Cyan',\n",
        "        (0, 0, 0): 'Black',\n",
        "        (255, 255, 255): 'White'\n",
        "    }\n",
        "    # Check if the color is in the dictionary and return its name\n",
        "    if color in color_names:\n",
        "        return color_names[color]\n",
        "    # If the color is not in the dictionary, return 'Unknown'\n",
        "    else:\n",
        "        return 'Unknown'\n",
        "\n",
        "def get_most_common_color(image_path):\n",
        "    # Open the image file using PIL\n",
        "    image = Image.open(image_path)\n",
        "    # Resize the image to speed up processing\n",
        "    image = image.resize((200, 200))\n",
        "    # Get the RGB values for each pixel in the image\n",
        "    pixels = image.getcolors(200 * 200)\n",
        "    # Sort the pixels by count in descending order\n",
        "    sorted_pixels = sorted(pixels, key=lambda t: t[0], reverse=True)\n",
        "    # Return the RGB value of the most common pixel\n",
        "    most_common_pixel = sorted_pixels[0][1]\n",
        "    return most_common_pixel\n",
        "  \n",
        "def get_most_common_color2(image_itself):\n",
        "    # Open the image file using PIL\n",
        "    image = image_itself\n",
        "    # Resize the image to speed up processing\n",
        "    image = image.resize((200, 200))\n",
        "    # Get the RGB values for each pixel in the image\n",
        "    pixels = image.getcolors(200 * 200)\n",
        "    # Sort the pixels by count in descending order\n",
        "    sorted_pixels = sorted(pixels, key=lambda t: t[0], reverse=True)\n",
        "    # Return the RGB value of the most common pixel\n",
        "    most_common_pixel = sorted_pixels[0][1]\n",
        "    return most_common_pixel"
      ]
    },
    {
      "cell_type": "code",
      "source": [
        "# Test the function on an image file\n",
        "image_path = '/content/Pure red.JPG'\n",
        "most_common_color = get_most_common_color(image_path)\n",
        "color_name = closest_colour(most_common_color)\n",
        "print(f'The most common color in {image_path} is {color_name}.')"
      ],
      "metadata": {
        "colab": {
          "base_uri": "https://localhost:8080/"
        },
        "id": "HExOiFeOu0Q6",
        "outputId": "e96fc41a-2a1f-4e25-aa3d-931fab5f51e1"
      },
      "execution_count": 29,
      "outputs": [
        {
          "output_type": "stream",
          "name": "stdout",
          "text": [
            "The most common color in /content/Pure red.JPG is red.\n"
          ]
        }
      ]
    },
    {
      "cell_type": "code",
      "source": [
        "!pip install anvil-uplink"
      ],
      "metadata": {
        "colab": {
          "base_uri": "https://localhost:8080/",
          "height": 462
        },
        "id": "PpOhkEAx31sw",
        "outputId": "237ababa-0b17-46e1-a239-7015daa9ea01"
      },
      "execution_count": 20,
      "outputs": [
        {
          "output_type": "stream",
          "name": "stdout",
          "text": [
            "Looking in indexes: https://pypi.org/simple, https://us-python.pkg.dev/colab-wheels/public/simple/\n",
            "Collecting anvil-uplink\n",
            "  Downloading anvil_uplink-0.4.2-py2.py3-none-any.whl (90 kB)\n",
            "\u001b[2K     \u001b[90m━━━━━━━━━━━━━━━━━━━━━━━━━━━━━━━━━━━━━━━━\u001b[0m \u001b[32m90.1/90.1 KB\u001b[0m \u001b[31m9.6 MB/s\u001b[0m eta \u001b[36m0:00:00\u001b[0m\n",
            "\u001b[?25hRequirement already satisfied: six in /usr/local/lib/python3.9/dist-packages (from anvil-uplink) (1.16.0)\n",
            "Collecting ws4py\n",
            "  Downloading ws4py-0.5.1.tar.gz (51 kB)\n",
            "\u001b[2K     \u001b[90m━━━━━━━━━━━━━━━━━━━━━━━━━━━━━━━━━━━━━━━━\u001b[0m \u001b[32m51.4/51.4 KB\u001b[0m \u001b[31m8.4 MB/s\u001b[0m eta \u001b[36m0:00:00\u001b[0m\n",
            "\u001b[?25h  Preparing metadata (setup.py) ... \u001b[?25l\u001b[?25hdone\n",
            "Requirement already satisfied: future in /usr/local/lib/python3.9/dist-packages (from anvil-uplink) (0.18.3)\n",
            "Collecting argparse\n",
            "  Downloading argparse-1.4.0-py2.py3-none-any.whl (23 kB)\n",
            "Building wheels for collected packages: ws4py\n",
            "  Building wheel for ws4py (setup.py) ... \u001b[?25l\u001b[?25hdone\n",
            "  Created wheel for ws4py: filename=ws4py-0.5.1-py3-none-any.whl size=45228 sha256=17659a80176e16be81a3f34ecb993c786731e7668f0fc983ab07e2271bef92a5\n",
            "  Stored in directory: /root/.cache/pip/wheels/e8/9d/fd/0a594a1bc8d493935d319ac40d64d79f5b4117ef4d37b1b678\n",
            "Successfully built ws4py\n",
            "Installing collected packages: ws4py, argparse, anvil-uplink\n",
            "Successfully installed anvil-uplink-0.4.2 argparse-1.4.0 ws4py-0.5.1\n"
          ]
        },
        {
          "output_type": "display_data",
          "data": {
            "application/vnd.colab-display-data+json": {
              "pip_warning": {
                "packages": [
                  "argparse",
                  "google"
                ]
              }
            }
          },
          "metadata": {}
        }
      ]
    },
    {
      "cell_type": "code",
      "source": [
        "import anvil.server\n",
        "import anvil.media\n",
        "\n",
        "anvil.server.connect(\"server_TQZAZFKERYOPLXBW2LFLFKXG-7JNJQR32UW7NEKMW\")"
      ],
      "metadata": {
        "id": "mgwklbtC4B42"
      },
      "execution_count": 22,
      "outputs": []
    },
    {
      "cell_type": "code",
      "source": [
        "@anvil.server.callable\n",
        "def classify_image(file):\n",
        "  with anvil.media.TempFile(file) as filename:\n",
        "    img = load_img(filename)\n",
        "\n",
        "    most_common_color = get_most_common_color2(img)\n",
        "    color_name = closest_colour(most_common_color)\n",
        "\n",
        "    return f'The most common color is {color_name}.'"
      ],
      "metadata": {
        "id": "_4FmMPjf4WmT"
      },
      "execution_count": 33,
      "outputs": []
    }
  ]
}