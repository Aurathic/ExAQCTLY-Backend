{
 "cells": [
  {
   "cell_type": "code",
   "execution_count": 1,
   "id": "da3daf17-3ccc-4c58-9b27-50cc13c8af88",
   "metadata": {},
   "outputs": [],
   "source": [
    "import matplotlib.pyplot as plt\n",
    "from PIL import Image\n",
    "import torch.nn as nn\n",
    "import numpy as np\n",
    "import os, json, io\n",
    "\n",
    "from lime import lime_image\n",
    "import skimage.segmentation as segmentation"
   ]
  },
  {
   "cell_type": "code",
   "execution_count": 6,
   "id": "d8d69bc9-0a4c-455b-aa86-6689250a1613",
   "metadata": {},
   "outputs": [],
   "source": [
    "def explain(image, batch_predict, num_samples=1000):\n",
    "    \"\"\"Returns a byte array representing the image + explanations\n",
    "    in PNG format.\"\"\"\n",
    "    explainer = lime_image.LimeImageExplainer()\n",
    "    explanation = explainer.explain_instance(np.array(image), \n",
    "                                         batch_predict, # classification function\n",
    "                                         top_labels=2, \n",
    "                                         hide_color=0, \n",
    "                                         num_samples=num_samples) # number of images that will be sent to classification function\n",
    "    temp, mask = explanation.get_image_and_mask(explanation.top_labels[0], positive_only=False, num_features=2, hide_rest=False)\n",
    "    image_boundary = segmentation.mark_boundaries(temp/255.0, mask)\n",
    "    img = Image.fromarray((image_boundary*255).astype('uint8'), mode='RGB')\n",
    "    img_byte_arr = io.BytesIO()\n",
    "    img.save(img_byte_arr, format='PNG')\n",
    "    img_byte_arr = img_byte_arr.getvalue()\n",
    "    return bytes(img_byte_arr)"
   ]
  },
  {
   "cell_type": "code",
   "execution_count": 3,
   "id": "11ded5b3-9903-4db2-bd7a-85771b29c823",
   "metadata": {},
   "outputs": [
    {
     "name": "stdout",
     "output_type": "stream",
     "text": [
      "lime.ipynb imported.\n"
     ]
    }
   ],
   "source": [
    "print(\"lime.ipynb imported.\")"
   ]
  }
 ],
 "metadata": {
  "kernelspec": {
   "display_name": "Python 3 (ipykernel)",
   "language": "python",
   "name": "python3"
  },
  "language_info": {
   "codemirror_mode": {
    "name": "ipython",
    "version": 3
   },
   "file_extension": ".py",
   "mimetype": "text/x-python",
   "name": "python",
   "nbconvert_exporter": "python",
   "pygments_lexer": "ipython3",
   "version": "3.10.4"
  }
 },
 "nbformat": 4,
 "nbformat_minor": 5
}
